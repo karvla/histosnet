{
 "cells": [
  {
   "cell_type": "markdown",
   "metadata": {},
   "source": [
    "# Mammography data and TNBC outcomes\n",
    "This notebook is used to investigate the relationship between TNBC outcomes and estimatied breast density and spiculation (mammo mass margin). Both estimates where done on a 1-4 scale."
   ]
  },
  {
   "cell_type": "code",
   "execution_count": 46,
   "metadata": {},
   "outputs": [],
   "source": [
    "import seaborn as sns\n",
    "import pandas as pd\n",
    "import numpy as np\n",
    "\n",
    "# Import data\n",
    "df = pd.read_excel(\"../data/TNBC.xlsx\")\n",
    "\n",
    "# Only keep some columns\n",
    "df = df[[\n",
    "    \"Mammo Mass margin\",\n",
    "    \"Breast density\",\n",
    "    \"distant_relapse\",\n",
    "    \"local_relapse\",\n",
    "    \"OS\"\n",
    "]]\n",
    "\n",
    "# Rename some stuff\n",
    "df = df.replace(99, np.NaN)\n",
    "df = df.replace(\"A\", 1)\n",
    "df = df.replace(\"B\", 2)\n",
    "df = df.replace(\"C\", 3)\n",
    "df = df.replace(\"D\", 4)\n",
    "df = df.dropna()\n",
    "df = df.astype(float)\n",
    "\n",
    "outcomes = [\"distant_relapse\", \"local_relapse\", \"OS\"] \n",
    "df[outcomes] = df[outcomes].astype(bool)"
   ]
  },
  {
   "cell_type": "markdown",
   "metadata": {},
   "source": [
    "## Student's t-test\n",
    "To see whether there's any differece in distribution of the estimates among those with a certain outcome (distant relapse, local relapse and overall survival) we divide and the cohort for an outcome and run a t-test for each estimate. This leads to a total of 6 tests (3 outcomes x 2 estimates).\n",
    "\n",
    "A t-test can be used to deremine how likely a differnce in mean of two sets is due to chance. A low p-value indicates that it's unlikely that estimate difference between two groups was due to chance.    \n",
    "\n",
    "We should be somewhat sceptical of this result since we apply this test to six different pairs. We will expect a low p-value result to show up due to randomness alone every now and then."
   ]
  },
  {
   "cell_type": "code",
   "execution_count": 47,
   "metadata": {},
   "outputs": [
    {
     "data": {
      "text/html": [
       "<div>\n",
       "<style scoped>\n",
       "    .dataframe tbody tr th:only-of-type {\n",
       "        vertical-align: middle;\n",
       "    }\n",
       "\n",
       "    .dataframe tbody tr th {\n",
       "        vertical-align: top;\n",
       "    }\n",
       "\n",
       "    .dataframe thead th {\n",
       "        text-align: right;\n",
       "    }\n",
       "</style>\n",
       "<table border=\"1\" class=\"dataframe\">\n",
       "  <thead>\n",
       "    <tr style=\"text-align: right;\">\n",
       "      <th></th>\n",
       "      <th>index</th>\n",
       "      <th>t_stat</th>\n",
       "      <th>feature</th>\n",
       "      <th>p_value</th>\n",
       "      <th>outcome</th>\n",
       "    </tr>\n",
       "  </thead>\n",
       "  <tbody>\n",
       "    <tr>\n",
       "      <th>0</th>\n",
       "      <td>1</td>\n",
       "      <td>-2.112608</td>\n",
       "      <td>Breast density</td>\n",
       "      <td>0.035622</td>\n",
       "      <td>distant_relapse</td>\n",
       "    </tr>\n",
       "    <tr>\n",
       "      <th>1</th>\n",
       "      <td>5</td>\n",
       "      <td>2.006764</td>\n",
       "      <td>Breast density</td>\n",
       "      <td>0.045847</td>\n",
       "      <td>OS</td>\n",
       "    </tr>\n",
       "    <tr>\n",
       "      <th>2</th>\n",
       "      <td>0</td>\n",
       "      <td>-1.668491</td>\n",
       "      <td>Mammo Mass margin</td>\n",
       "      <td>0.096465</td>\n",
       "      <td>distant_relapse</td>\n",
       "    </tr>\n",
       "    <tr>\n",
       "      <th>3</th>\n",
       "      <td>3</td>\n",
       "      <td>1.593685</td>\n",
       "      <td>Breast density</td>\n",
       "      <td>0.112265</td>\n",
       "      <td>local_relapse</td>\n",
       "    </tr>\n",
       "    <tr>\n",
       "      <th>4</th>\n",
       "      <td>2</td>\n",
       "      <td>0.253484</td>\n",
       "      <td>Mammo Mass margin</td>\n",
       "      <td>0.800102</td>\n",
       "      <td>local_relapse</td>\n",
       "    </tr>\n",
       "    <tr>\n",
       "      <th>5</th>\n",
       "      <td>4</td>\n",
       "      <td>0.090515</td>\n",
       "      <td>Mammo Mass margin</td>\n",
       "      <td>0.927950</td>\n",
       "      <td>OS</td>\n",
       "    </tr>\n",
       "  </tbody>\n",
       "</table>\n",
       "</div>"
      ],
      "text/plain": [
       "   index    t_stat            feature   p_value          outcome\n",
       "0      1 -2.112608     Breast density  0.035622  distant_relapse\n",
       "1      5  2.006764     Breast density  0.045847               OS\n",
       "2      0 -1.668491  Mammo Mass margin  0.096465  distant_relapse\n",
       "3      3  1.593685     Breast density  0.112265    local_relapse\n",
       "4      2  0.253484  Mammo Mass margin  0.800102    local_relapse\n",
       "5      4  0.090515  Mammo Mass margin  0.927950               OS"
      ]
     },
     "execution_count": 47,
     "metadata": {},
     "output_type": "execute_result"
    }
   ],
   "source": [
    "from scipy.stats import ttest_ind\n",
    "\n",
    "res = []\n",
    "outcomes = [\"distant_relapse\", \"local_relapse\", \"OS\"] \n",
    "features = set(df.columns) - set(outcomes)\n",
    "\n",
    "for outcome in outcomes:\n",
    "    a = df[df[outcome] == 1]\n",
    "    b = df[df[outcome] == 0]\n",
    "\n",
    "    for feature in features:\n",
    "        if feature == outcome:\n",
    "            continue\n",
    "        \n",
    "        t_stat, p_value = ttest_ind(a[feature], b[feature])\n",
    "        res.append({\n",
    "            \"t_stat\" : t_stat,\n",
    "            \"feature\" : feature,\n",
    "            \"p_value\" : p_value,\n",
    "            \"outcome\" : outcome\n",
    "        })\n",
    "        \n",
    "df_ttest = pd.DataFrame(res).sort_values(\"p_value\").reset_index()\n",
    "df_ttest"
   ]
  },
  {
   "cell_type": "markdown",
   "metadata": {},
   "source": [
    "From the table above breast density seems to be correlated with distant relapse since the p-value is low. The same goes for breast density and overall survival. This is expected since OS and distant relapse have a large negative correlation. (Note the difference in the sign of the t-stat.)"
   ]
  },
  {
   "cell_type": "code",
   "execution_count": 142,
   "metadata": {},
   "outputs": [
    {
     "data": {
      "text/plain": [
       "([<matplotlib.axis.XTick at 0x7fbbaeefe5b0>,\n",
       "  <matplotlib.axis.XTick at 0x7fbbaeefe340>,\n",
       "  <matplotlib.axis.XTick at 0x7fbbaeeb91f0>,\n",
       "  <matplotlib.axis.XTick at 0x7fbbaeec85b0>],\n",
       " [Text(0, 0, ''), Text(0, 0, ''), Text(0, 0, ''), Text(0, 0, '')])"
      ]
     },
     "execution_count": 142,
     "metadata": {},
     "output_type": "execute_result"
    },
    {
     "data": {
      "image/png": "[encoded data removed]",
      "text/plain": [
       "<Figure size 432x288 with 1 Axes>"
      ]
     },
     "metadata": {
      "needs_background": "light"
     },
     "output_type": "display_data"
    }
   ],
   "source": [
    "import matplotlib.pyplot as plt\n",
    "\n",
    "sns.histplot(data=df, x = \"Breast density\",\n",
    "             hue = \"distant_relapse\",\n",
    "             discrete=True,\n",
    "             stat=\"probability\",\n",
    "             common_norm=False,\n",
    "             kde=True, \n",
    "             kde_kws = {\"bw_method\":1})\n",
    "plt.title(\"Normalized distribution of estimated breast density\")\n",
    "plt.xticks([1,2,3,4])"
   ]
  },
  {
   "cell_type": "markdown",
   "metadata": {},
   "source": [
    "By plotting the the breast density estimates as a histogram we can illustrate the difference in distribution between the two groups (those with and without distant relapse). Note that the y-axis denotes probability and not count.\n",
    "\n",
    "A gaussian kernel is used to estimate the distribution (the two lines). From this we can see that low breast densiy seems to give a slight indication of developing distant relapse.\n",
    "\n",
    "Better estimates and larger cohort could help us cement this hypothesis."
   ]
  }
 ],
 "metadata": {
  "kernelspec": {
   "display_name": "Python 3",
   "language": "python",
   "name": "python3"
  },
  "language_info": {
   "codemirror_mode": {
    "name": "ipython",
    "version": 3
   },
   "file_extension": ".py",
   "mimetype": "text/x-python",
   "name": "python",
   "nbconvert_exporter": "python",
   "pygments_lexer": "ipython3",
   "version": "3.8.2"
  }
 },
 "nbformat": 4,
 "nbformat_minor": 4
}
